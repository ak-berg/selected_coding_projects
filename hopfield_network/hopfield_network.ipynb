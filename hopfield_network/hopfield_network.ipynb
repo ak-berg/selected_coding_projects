{
 "cells": [
  {
   "cell_type": "code",
   "execution_count": 1,
   "metadata": {},
   "outputs": [],
   "source": [
    "''' \n",
    "This notebook is an example for the application of a Hopfield Network.\n",
    "\n",
    "The first four positive integers are given as initial learning patterns, each described by a 100 neurons.\n",
    "A corrupted pattern, similar to one of the learning patterns, will be defined and recognized by the system after some iterations.\n",
    "The recognition process is based on a previously defined interaction matrix 'W'.\n",
    "The asynchronous algorithm updates only one random neuron each step while the synchronous one updates all neurons simultaneously.\n",
    "\n",
    "This file accesses a C extension file via the library 'cytpes'.\n",
    "'''\n",
    "import matplotlib.pyplot as plt\n",
    "import numpy as np\n",
    "from ctypes import *\n",
    "\n",
    "patternNumber = 4 # Number of learning patterns\n",
    "patternSize = 10 # Number of neurons per column/ row\n",
    "iterations = 10 # Number of iterations\n",
    "\n",
    "# Defining the learning patterns\n",
    "patterns = np.array([\n",
    "   [1,1,1,1,-1,-1,1,1,1,1,1,1,1,1,-1,-1,1,1,1,1,1,1,1,1,-1,-1,1,1,1,1,1,1,1,1,-1,-1,1,1,1,1,1,1,1,1,-1,-1,1,1,1,1,1,1,1,1,-1,-1,1,1,1,1,1,1,1,1,-1,-1,1,1,1,1,1,1,1,1,-1,-1,1,1,1,1,1,1,1,1,-1,-1,1,1,1,1,1,1,1,1,-1,-1,1,1,1,1],   # Number One\n",
    "   [-1,-1,-1,-1,-1,-1,-1,-1,-1,-1,1,1,1,1,1,1,1,1,-1,-1,1,1,1,1,1,1,1,1,-1,-1,1,1,1,1,1,1,1,1,-1,-1,1,1,1,1,1,1,1,1,-1,-1,-1,-1,-1,-1,-1,-1,-1,-1,-1,-1,-1,-1,1,1,1,1,1,1,1,1,-1,-1,1,1,1,1,1,1,1,1,-1,-1,1,1,1,1,1,1,1,1,-1,-1,-1,-1,-1,-1,-1,-1,-1,-1],   # Number Two\n",
    "   [-1,-1,-1,-1,-1,-1,-1,-1,-1,-1,1,1,1,1,1,1,1,1,-1,-1,1,1,1,1,1,1,1,1,-1,-1,1,1,1,1,1,1,1,1,-1,-1,1,1,-1,-1,-1,-1,-1,-1,-1,-1,1,1,-1,-1,-1,-1,-1,-1,-1,-1,1,1,1,1,1,1,1,1,-1,-1,1,1,1,1,1,1,1,1,-1,-1,1,1,1,1,1,1,1,1,-1,-1,-1,-1,-1,-1,-1,-1,-1,-1,-1,-1],     # Number Three\n",
    "   [-1,-1,1,1,1,-1,-1,1,1,1,-1,-1,1,1,1,-1,-1,1,1,1,-1,-1,1,1,1,-1,-1,1,1,1,-1,-1,1,1,1,-1,-1,1,1,1,-1,-1,1,1,1,-1,-1,1,1,1,-1,-1,-1,-1,-1,-1,-1,-1,-1,-1,1,1,1,1,1,-1,-1,1,1,1,1,1,1,1,1,-1,-1,1,1,1,1,1,1,1,1,-1,-1,1,1,1,1,1,1,1,1,-1,-1,1,1,1],], # Letter M \n",
    "   dtype=np.float64)\n",
    "\n",
    "# Show patterns\n",
    "fig, ax = plt.subplots(1, patternNumber, figsize=(15, 10))\n",
    "\n",
    "for i in range(patternNumber):\n",
    "    ax[i].matshow(patterns[i].reshape((patternSize, patternSize)), cmap='gray')\n",
    "    ax[i].set_xticks([])\n",
    "    ax[i].set_yticks([])\n"
   ]
  },
  {
   "cell_type": "code",
   "execution_count": 2,
   "metadata": {},
   "outputs": [],
   "source": [
    "# Load C extension for obtaining the interaction matrix and training the network.\n",
    "cExt = CDLL('cExtensions.dll')"
   ]
  },
  {
   "cell_type": "code",
   "execution_count": 3,
   "metadata": {},
   "outputs": [],
   "source": [
    "# Get the interaction matrix from the C extension.\n",
    "def setInteractionMatrix(pN, pS, pS2, Pmat, Wmat):\n",
    "    \n",
    "    cExt_setInteractionMatrix = cExt.setInteractionMatrix\n",
    "    \n",
    "    cExt_setInteractionMatrix.argtypes = [\n",
    "        c_int, \n",
    "        c_int, \n",
    "        c_int, \n",
    "        np.ctypeslib.ndpointer(dtype=np.float64, ndim=2, shape=(pN, pS2)), \n",
    "        np.ctypeslib.ndpointer(dtype=np.float64, ndim=2, shape=(pS2, pS2))\n",
    "    ]\n",
    "    cExt_setInteractionMatrix.restype = None\n",
    "    \n",
    "    cExt_setInteractionMatrix(pN, pS, pS2, Pmat, Wmat)\n",
    "\n",
    "W = np.zeros((patternSize**2,patternSize**2), dtype=np.float64)\n",
    "\n",
    "setInteractionMatrix(patternNumber, patternSize, patternSize**2, patterns, W)"
   ]
  },
  {
   "cell_type": "code",
   "execution_count": 4,
   "metadata": {},
   "outputs": [
    {
     "data": {
      "text/plain": [
       "array([[0. , 0.4, 0.2, ..., 0.2, 0.2, 0.2],\n",
       "       [0.4, 0. , 0.2, ..., 0.2, 0.2, 0.2],\n",
       "       [0.2, 0.2, 0. , ..., 0.4, 0.4, 0.4],\n",
       "       ...,\n",
       "       [0.2, 0.2, 0.4, ..., 0. , 0.4, 0.4],\n",
       "       [0.2, 0.2, 0.4, ..., 0.4, 0. , 0.4],\n",
       "       [0.2, 0.2, 0.4, ..., 0.4, 0.4, 0. ]])"
      ]
     },
     "execution_count": 4,
     "metadata": {},
     "output_type": "execute_result"
    }
   ],
   "source": [
    "# Print the interaction matrix 'W'\n",
    "W"
   ]
  },
  {
   "cell_type": "code",
   "execution_count": 5,
   "metadata": {},
   "outputs": [
    {
     "data": {
      "text/plain": [
       "[]"
      ]
     },
     "execution_count": 5,
     "metadata": {},
     "output_type": "execute_result"
    },
    {
     "data": {
      "image/png": "[encoded data removed]",
      "text/plain": [
       "<Figure size 432x288 with 1 Axes>"
      ]
     },
     "metadata": {},
     "output_type": "display_data"
    }
   ],
   "source": [
    "# Create a corrupted pattern.\n",
    "testPattern = np.array([1,1,1,1,-1,-1,1,1,1,1,-1,1,1,1,1,-1,1,1,1,1,1,1,1,1,-1,-1,1,1,1,-1,1,1,1,1,-1,1,1,1,1,1,1,1,1,1,-1,1,1,-1,1,1,1,-1,1,1,-1,-1,1,1,1,-1,1,1,1,1,-1,-1,1,1,-1,1,1,1,1,-1,-1,-1,1,1,1,1,-1,1,1,-1,-1,-1,1,1,1,1,1,1,1,1,-1,-1,1,1,1,1],     \n",
    "   dtype=float)\n",
    "\n",
    "# Create another corrupted pattern. To try out the pattern above, rename this one, e.g., to 'testPattern2'.\n",
    "testPattern = np.array([1,-1,1,-1,-1,-1,-1,-1,-1,-1,1,1,1,1,1,-1,1,1,-1,1,1,1,1,1,1,1,1,1,-1,-1,1,1,1,-1,1,1,1,1,-1,-1,1,1,-1,1,1,-1,-1,-1,-1,-1,-1,1,1,-1,-1,1,-1,-1,-1,-1,1,1,-1,1,1,-1,1,-1,-1,-1,1,1,1,-1,1,1,1,-1,1,-1,1,1,-1,1,1,-1,-1,-1,-1,1,1,-1,-1,-1,-1,-1,-1,-1,-1,-1],\n",
    "   dtype=float)\n",
    "   \n",
    "# Show the first corrupted pattern.\n",
    "fig, ax = plt.subplots()\n",
    "ax.matshow(testPattern.reshape((patternSize, patternSize)), cmap='gray')\n",
    "ax.set_xticks([])\n",
    "ax.set_yticks([])"
   ]
  },
  {
   "cell_type": "code",
   "execution_count": 6,
   "metadata": {},
   "outputs": [],
   "source": [
    "# Get the distance matrix from the C extension.\n",
    "def setDistanceMatrix(itN, pN, pS, pS2, Pmat, Wmat, nVec, Dmat):\n",
    "    \n",
    "    cExt_setDistanceMatrix = cExt.setDistanceMatrix\n",
    "    \n",
    "    cExt_setDistanceMatrix.argtypes = [\n",
    "        c_int, \n",
    "        c_int, \n",
    "        c_int,\n",
    "        c_int,\n",
    "        np.ctypeslib.ndpointer(dtype=np.float64, ndim=2, shape=(pN, pS2)), \n",
    "        np.ctypeslib.ndpointer(dtype=np.float64, ndim=2, shape=(pS2, pS2)),\n",
    "        np.ctypeslib.ndpointer(dtype=np.float64, ndim=1, shape=(pS2)),\n",
    "        np.ctypeslib.ndpointer(dtype=np.float64, ndim=2, shape=(itN, pN))\n",
    "    ]\n",
    "    cExt_setDistanceMatrix.restype = None\n",
    "    \n",
    "    cExt_setDistanceMatrix(itN, pN, pS, pS2, Pmat, Wmat, nVec, Dmat)"
   ]
  },
  {
   "cell_type": "code",
   "execution_count": 7,
   "metadata": {},
   "outputs": [
    {
     "data": {
      "text/plain": [
       "array([[54., 20.,  8., 52.],\n",
       "       [53., 19.,  7., 51.],\n",
       "       [53., 19.,  1., 53.],\n",
       "       [53., 19.,  1., 53.],\n",
       "       [53., 19.,  1., 53.],\n",
       "       [53., 19.,  1., 53.],\n",
       "       [52., 20.,  0., 54.],\n",
       "       [52., 20.,  0., 54.],\n",
       "       [52., 20.,  0., 54.],\n",
       "       [52., 20.,  0., 54.]])"
      ]
     },
     "execution_count": 7,
     "metadata": {},
     "output_type": "execute_result"
    },
    {
     "data": {
      "image/png": "[encoded data removed]",
      "text/plain": [
       "<Figure size 432x288 with 1 Axes>"
      ]
     },
     "metadata": {},
     "output_type": "display_data"
    }
   ],
   "source": [
    "# Applying the algorithm.\n",
    "newVector = testPattern\n",
    "distanceMatrix = np.zeros((iterations, patternNumber))\n",
    "\n",
    "setDistanceMatrix(iterations, patternNumber, patternSize, patternSize**2, patterns, W, newVector, distanceMatrix)\n",
    "\n",
    "# Plotting the distance matrix as well as the solution proposed by the algorithm.\n",
    "fig, ax = plt.subplots()\n",
    "ax.matshow(newVector.reshape((patternSize, patternSize)), cmap='gray')\n",
    "ax.set_xticks([])\n",
    "ax.set_yticks([])\n",
    "distanceMatrix"
   ]
  },
  {
   "cell_type": "code",
   "execution_count": 8,
   "metadata": {},
   "outputs": [
    {
     "data": {
      "image/png": "[encoded data removed]",
      "text/plain": [
       "<Figure size 432x288 with 1 Axes>"
      ]
     },
     "metadata": {
      "needs_background": "light"
     },
     "output_type": "display_data"
    }
   ],
   "source": [
    "# Number of errors for each pattern against the number of performed iterations by the algorithm.\n",
    "plt.plot(np.tensordot(np.arange(1,11),np.ones(4),axes=0), distanceMatrix)\n",
    "plt.xlabel('Iterations')\n",
    "plt.ylabel('Number of errors')\n",
    "plt.legend([\"One\",\"Two\",\"Three\",\"Four\"], loc=1)\n",
    "plt.show()"
   ]
  },
  {
   "cell_type": "code",
   "execution_count": null,
   "metadata": {},
   "outputs": [],
   "source": []
  }
 ],
 "metadata": {
  "kernelspec": {
   "display_name": "Python 3",
   "language": "python",
   "name": "python3"
  },
  "language_info": {
   "codemirror_mode": {
    "name": "ipython",
    "version": 3
   },
   "file_extension": ".py",
   "mimetype": "text/x-python",
   "name": "python",
   "nbconvert_exporter": "python",
   "pygments_lexer": "ipython3",
   "version": "3.7.1"
  }
 },
 "nbformat": 4,
 "nbformat_minor": 2
}
